{
 "cells": [
  {
   "cell_type": "code",
   "execution_count": 14,
   "metadata": {},
   "outputs": [],
   "source": [
    "class Solution:\n",
    "    def isValid(self, s):\n",
    "        self.s = s\n",
    "        mydict = {\"(\":1,\"{\":2,\"[\":3,\")\": -1,\"}\": -2,\"]\": -3}\n",
    "        i = 1\n",
    "        mylist = []\n",
    "        \n",
    "        for m in range(len(s)):\n",
    "            mylist.append(mydict.get(self.s[m]))\n",
    "        if sum(mylist) != 0:\n",
    "            return False         \n",
    "        if len(self.s)%2 != 0:\n",
    "            return False\n",
    "        print(i)\n",
    "    \n",
    "        \n",
    "        while i < len(mylist):\n",
    "        \n",
    "            if mylist[i] < 0:\n",
    "                if mylist[i-1] + mylist[i] == 0:\n",
    "                    mylist = mylist[:i-1] + mylist[i+1:]\n",
    "                    i-=2\n",
    "                else:\n",
    "                    return False\n",
    "\n",
    "            \n",
    "            i+=1      \n",
    "        \n",
    "        \n",
    "        return True"
   ]
  },
  {
   "cell_type": "code",
   "execution_count": 15,
   "metadata": {},
   "outputs": [
    {
     "name": "stdout",
     "output_type": "stream",
     "text": [
      "1\n"
     ]
    },
    {
     "data": {
      "text/plain": [
       "True"
      ]
     },
     "execution_count": 15,
     "metadata": {},
     "output_type": "execute_result"
    }
   ],
   "source": [
    "s = Solution()\n",
    "s.isValid(\"[{()}]\")"
   ]
  },
  {
   "cell_type": "code",
   "execution_count": null,
   "metadata": {},
   "outputs": [],
   "source": [
    "i = 1\n",
    "l = 4\n",
    "while i < 4:\n",
    "    i+=1\n",
    "    print(i)"
   ]
  },
  {
   "cell_type": "code",
   "execution_count": null,
   "metadata": {},
   "outputs": [],
   "source": []
  }
 ],
 "metadata": {
  "kernelspec": {
   "display_name": "Python 3",
   "language": "python",
   "name": "python3"
  },
  "language_info": {
   "codemirror_mode": {
    "name": "ipython",
    "version": 3
   },
   "file_extension": ".py",
   "mimetype": "text/x-python",
   "name": "python",
   "nbconvert_exporter": "python",
   "pygments_lexer": "ipython3",
   "version": "3.7.1"
  }
 },
 "nbformat": 4,
 "nbformat_minor": 2
}
