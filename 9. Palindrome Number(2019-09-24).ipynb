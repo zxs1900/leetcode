{
 "cells": [
  {
   "cell_type": "code",
   "execution_count": 97,
   "metadata": {},
   "outputs": [],
   "source": [
    "class Solution:\n",
    "    def isPalindrome(self, x):\n",
    "        self.x = x\n",
    "        self.copy = x\n",
    "        self.result = 0\n",
    "        count = 1\n",
    "        \n",
    "        while self.copy != 0:\n",
    "            self.result = (self.result)*10 + self.copy % 10 \n",
    "            self.copy = int(self.copy / 10)\n",
    "            count = count*10\n",
    "        print(self.result)\n",
    "            \n",
    "        if self.x == self.result:\n",
    "            return True\n",
    "        else:\n",
    "            return False\n",
    "        \n",
    "            \n",
    "        "
   ]
  }
 ],
 "metadata": {
  "kernelspec": {
   "display_name": "Python 3",
   "language": "python",
   "name": "python3"
  },
  "language_info": {
   "codemirror_mode": {
    "name": "ipython",
    "version": 3
   },
   "file_extension": ".py",
   "mimetype": "text/x-python",
   "name": "python",
   "nbconvert_exporter": "python",
   "pygments_lexer": "ipython3",
   "version": "3.7.1"
  }
 },
 "nbformat": 4,
 "nbformat_minor": 2
}
