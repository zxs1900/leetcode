{
 "cells": [
  {
   "cell_type": "code",
   "execution_count": 1,
   "metadata": {},
   "outputs": [],
   "source": [
    "class Solution():\n",
    "    \n",
    "    \n",
    "    def romanToInt(self,s):\n",
    "        roman_dict = {\"I\" : 1, \"IV\" : 4, \"V\" : 5, \"IX\" : 9, \n",
    "                      \"X\" : 10, \"XL\" : 40, \"L\" : 50, \"XC\" : 90, \n",
    "                      \"C\" : 100, \"CD\" : 400,\"D\" : 500, \"CM\" : 900,\"M\" : 1000}\n",
    "        self.s = s\n",
    "        self.result = 0\n",
    "        count1 = self.s.count(\"IV\") + self.s.count(\"IX\") \n",
    "        count10 = self.s.count(\"XL\") + self.s.count(\"XC\")\n",
    "        count100 = self.s.count(\"CM\") + self.s.count(\"CD\")\n",
    "        \n",
    "        \n",
    "\n",
    "        \n",
    "        for i in iter(self.s):\n",
    "            \n",
    "            \n",
    "            \n",
    "            self.result += roman_dict[i]\n",
    "        \n",
    "        self.result = self.result - count1*2 - count10*20-count100*200\n",
    "            \n",
    "        return self.result\n",
    "        \n",
    "        "
   ]
  },
  {
   "cell_type": "code",
   "execution_count": 2,
   "metadata": {},
   "outputs": [
    {
     "data": {
      "text/plain": [
       "1994"
      ]
     },
     "execution_count": 2,
     "metadata": {},
     "output_type": "execute_result"
    }
   ],
   "source": [
    "s = Solution()\n",
    "s.romanToInt(\"MCMXCIV\")"
   ]
  },
  {
   "cell_type": "code",
   "execution_count": null,
   "metadata": {},
   "outputs": [],
   "source": []
  }
 ],
 "metadata": {
  "kernelspec": {
   "display_name": "Python 3",
   "language": "python",
   "name": "python3"
  },
  "language_info": {
   "codemirror_mode": {
    "name": "ipython",
    "version": 3
   },
   "file_extension": ".py",
   "mimetype": "text/x-python",
   "name": "python",
   "nbconvert_exporter": "python",
   "pygments_lexer": "ipython3",
   "version": "3.7.1"
  }
 },
 "nbformat": 4,
 "nbformat_minor": 2
}
