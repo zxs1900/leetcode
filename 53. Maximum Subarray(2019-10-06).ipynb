{
 "cells": [
  {
   "cell_type": "code",
   "execution_count": 231,
   "metadata": {},
   "outputs": [],
   "source": [
    "class Solution:\n",
    "    def maxSubArray(self, nums) -> int:\n",
    "        self.nums = nums\n",
    "        left = 0\n",
    "        right = 0\n",
    "        indleft = 0\n",
    "        indright = len(self.nums)-1\n",
    "        maxileft = self.nums[0]\n",
    "        maxiright = self.nums[-1]\n",
    "        \n",
    "        for i in range(0,len(self.nums)):\n",
    "            left = left + self.nums[i]\n",
    "            #print(left)\n",
    "            if left > maxileft:\n",
    "                maxileft = left\n",
    "                indleft = i\n",
    "            print(indleft)\n",
    "            \n",
    "        for i in range(len(self.nums)-1,-1,-1):\n",
    "            right = right + self.nums[i]\n",
    "            #print(right)\n",
    "            if right > maxiright:\n",
    "                maxiright = right\n",
    "                indright = i\n",
    "            #print(maxiright)\n",
    "            #print(indright)\n",
    "                \n",
    "        maxi = sum(self.nums[indright:indleft+1])\n",
    "        return maxi"
   ]
  },
  {
   "cell_type": "code",
   "execution_count": 45,
   "metadata": {
    "scrolled": true
   },
   "outputs": [
    {
     "data": {
      "text/plain": [
       "-inf"
      ]
     },
     "execution_count": 45,
     "metadata": {},
     "output_type": "execute_result"
    }
   ],
   "source": [
    "a = Solution()\n",
    "a.maxSubArray([])"
   ]
  },
  {
   "cell_type": "code",
   "execution_count": 41,
   "metadata": {},
   "outputs": [],
   "source": [
    "class Solution:\n",
    "    def maxSubArray(self, nums) -> int:\n",
    "        self.nums = nums\n",
    "        maxi = float('-inf')\n",
    "        result = 0\n",
    "        \n",
    "        \n",
    "        if len(self.nums) == 1:\n",
    "            return self.nums[0]\n",
    "        \n",
    "        \n",
    "        for i in range(len(self.nums)): \n",
    "                \n",
    "            result = result + self.nums[i]\n",
    "            maxi = max(maxi,result)\n",
    "            if result < 0 :\n",
    "                result = 0         \n",
    "        return maxi\n",
    "                "
   ]
  },
  {
   "cell_type": "code",
   "execution_count": null,
   "metadata": {},
   "outputs": [],
   "source": []
  }
 ],
 "metadata": {
  "kernelspec": {
   "display_name": "Python 3",
   "language": "python",
   "name": "python3"
  },
  "language_info": {
   "codemirror_mode": {
    "name": "ipython",
    "version": 3
   },
   "file_extension": ".py",
   "mimetype": "text/x-python",
   "name": "python",
   "nbconvert_exporter": "python",
   "pygments_lexer": "ipython3",
   "version": "3.7.1"
  }
 },
 "nbformat": 4,
 "nbformat_minor": 2
}
