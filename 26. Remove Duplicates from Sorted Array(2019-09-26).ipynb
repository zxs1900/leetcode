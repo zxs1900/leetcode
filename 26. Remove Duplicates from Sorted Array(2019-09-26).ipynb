{
 "cells": [
  {
   "cell_type": "code",
   "execution_count": 16,
   "metadata": {},
   "outputs": [],
   "source": [
    "class Solution:\n",
    "    def removeDuplicates(self, nums) -> int:\n",
    "        self.nums = nums\n",
    "        \n",
    "        for i in range(1,len(self.nums)):\n",
    "            if self.nums[i-1] == self.nums[i]:\n",
    "                self.nums.pop(i-1)\n",
    "                return self.removeDuplicates(self.nums)\n",
    "        return len(self.nums)\n",
    "    \n",
    "    \n",
    "        \n",
    "\n",
    "            \n",
    "        \n",
    "            \n",
    "        "
   ]
  },
  {
   "cell_type": "code",
   "execution_count": 47,
   "metadata": {},
   "outputs": [
    {
     "data": {
      "text/plain": [
       "[0, 1, 2, 3, 4, 5, 7]"
      ]
     },
     "execution_count": 47,
     "metadata": {},
     "output_type": "execute_result"
    }
   ],
   "source": [
    "s = Solution()\n",
    "s.removeDuplicates([0,0,1,1,2,2,2,3,4,5,7])"
   ]
  },
  {
   "cell_type": "code",
   "execution_count": 46,
   "metadata": {},
   "outputs": [],
   "source": [
    "class Solution:\n",
    "    def removeDuplicates(self, nums) -> int:\n",
    "        self.nums = nums\n",
    "        j = 1\n",
    "        \n",
    "        for i in range(1,len(self.nums)):\n",
    "            if self.nums[i-1] != self.nums[i]:\n",
    "                self.nums[j] = self.nums[i]\n",
    "                j+=1\n",
    "        while len(self.nums) > j:\n",
    "            self.nums.pop()\n",
    "        return len(self.nums)"
   ]
  },
  {
   "cell_type": "code",
   "execution_count": 37,
   "metadata": {},
   "outputs": [
    {
     "ename": "IndentationError",
     "evalue": "expected an indented block (<ipython-input-37-2458b83d8ef2>, line 12)",
     "output_type": "error",
     "traceback": [
      "\u001b[0;36m  File \u001b[0;32m\"<ipython-input-37-2458b83d8ef2>\"\u001b[0;36m, line \u001b[0;32m12\u001b[0m\n\u001b[0;31m    return self.nums[i]\u001b[0m\n\u001b[0m         ^\u001b[0m\n\u001b[0;31mIndentationError\u001b[0m\u001b[0;31m:\u001b[0m expected an indented block\n"
     ]
    }
   ],
   "source": [
    "class Solution:\n",
    "    def removeDuplicates(self, nums) -> int:\n",
    "        self.nums = nums\n",
    "        \n",
    "        for i in range(1,len(self.nums)):\n",
    "            if self.nums[i-1] == self.nums[i]:\n",
    "                self.nums[i-1] = None\n",
    "\n",
    "        \n",
    "        for i in range(len(self.nums)):\n",
    "            if self.nums[i] != None:\n",
    "                \n",
    "                return self.nums[i]\n",
    "                \n",
    "        "
   ]
  },
  {
   "cell_type": "code",
   "execution_count": null,
   "metadata": {},
   "outputs": [],
   "source": []
  }
 ],
 "metadata": {
  "kernelspec": {
   "display_name": "Python 3",
   "language": "python",
   "name": "python3"
  },
  "language_info": {
   "codemirror_mode": {
    "name": "ipython",
    "version": 3
   },
   "file_extension": ".py",
   "mimetype": "text/x-python",
   "name": "python",
   "nbconvert_exporter": "python",
   "pygments_lexer": "ipython3",
   "version": "3.7.1"
  }
 },
 "nbformat": 4,
 "nbformat_minor": 2
}
