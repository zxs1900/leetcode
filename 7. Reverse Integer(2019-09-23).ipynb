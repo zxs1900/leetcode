{
 "cells": [
  {
   "cell_type": "code",
   "execution_count": null,
   "metadata": {},
   "outputs": [],
   "source": [
    "class Solution:\n",
    "    def reverse(self, x: int) -> int:\n",
    "        self.x = x\n",
    "        \n",
    "        r= 2**31-1\n",
    "        \n",
    "        if x >=0 :\n",
    "            y = str(x)[::-1]\n",
    "            if int(y)> r:\n",
    "                return 0\n",
    "            else:\n",
    "                return int(y)\n",
    "        \n",
    "        else:\n",
    "            y = str(x)[:0:-1]\n",
    "            if 0-int (y)<0-r:\n",
    "                return 0\n",
    "            else:\n",
    "                return 0-int(y)\n"
   ]
  }
 ],
 "metadata": {
  "kernelspec": {
   "display_name": "Python 3",
   "language": "python",
   "name": "python3"
  },
  "language_info": {
   "codemirror_mode": {
    "name": "ipython",
    "version": 3
   },
   "file_extension": ".py",
   "mimetype": "text/x-python",
   "name": "python",
   "nbconvert_exporter": "python",
   "pygments_lexer": "ipython3",
   "version": "3.7.1"
  }
 },
 "nbformat": 4,
 "nbformat_minor": 2
}
